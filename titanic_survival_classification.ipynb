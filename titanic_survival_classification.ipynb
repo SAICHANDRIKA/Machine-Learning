{
  "metadata": {
    "kernelspec": {
      "language": "python",
      "display_name": "Python 3",
      "name": "python3"
    },
    "language_info": {
      "name": "python",
      "version": "3.10.10",
      "mimetype": "text/x-python",
      "codemirror_mode": {
        "name": "ipython",
        "version": 3
      },
      "pygments_lexer": "ipython3",
      "nbconvert_exporter": "python",
      "file_extension": ".py"
    },
    "colab": {
      "provenance": []
    }
  },
  "nbformat_minor": 0,
  "nbformat": 4,
  "cells": [
    {
      "cell_type": "code",
      "source": [
        "# This Python 3 environment comes with many helpful analytics libraries installed\n",
        "# It is defined by the kaggle/python Docker image: https://github.com/kaggle/docker-python\n",
        "# For example, here's several helpful packages to load\n",
        "\n",
        "import numpy as np # linear algebra\n",
        "import pandas as pd # data processing, CSV file I/O (e.g. pd.read_csv)\n",
        "\n",
        "# Input data files are available in the read-only \"../input/\" directory\n",
        "# For example, running this (by clicking run or pressing Shift+Enter) will list all files under the input directory\n",
        "\n",
        "import os\n",
        "for dirname, _, filenames in os.walk('/kaggle/input'):\n",
        "    for filename in filenames:\n",
        "        print(os.path.join(dirname, filename))\n",
        "\n",
        "# You can write up to 20GB to the current directory (/kaggle/working/) that gets preserved as output when you create a version using \"Save & Run All\" \n",
        "# You can also write temporary files to /kaggle/temp/, but they won't be saved outside of the current session"
      ],
      "metadata": {
        "_uuid": "8f2839f25d086af736a60e9eeb907d3b93b6e0e5",
        "_cell_guid": "b1076dfc-b9ad-4769-8c92-a6c4dae69d19",
        "execution": {
          "iopub.status.busy": "2023-05-16T18:47:25.425154Z",
          "iopub.execute_input": "2023-05-16T18:47:25.425599Z",
          "iopub.status.idle": "2023-05-16T18:47:25.432943Z",
          "shell.execute_reply.started": "2023-05-16T18:47:25.425547Z",
          "shell.execute_reply": "2023-05-16T18:47:25.431652Z"
        },
        "trusted": true,
        "id": "7zJ5jjbxZu_p",
        "outputId": "9cd39523-4ea9-44db-ba71-fcb291f12bed"
      },
      "execution_count": null,
      "outputs": [
        {
          "name": "stdout",
          "text": "/kaggle/input/titanic/train.csv\n/kaggle/input/titanic/test.csv\n/kaggle/input/titanic/gender_submission.csv\n",
          "output_type": "stream"
        }
      ]
    },
    {
      "cell_type": "code",
      "source": [
        "#Loading training data\n",
        "train_data = pd.read_csv(\"/kaggle/input/titanic/train.csv\")\n",
        "train_data.head()"
      ],
      "metadata": {
        "execution": {
          "iopub.status.busy": "2023-05-16T18:47:29.033814Z",
          "iopub.execute_input": "2023-05-16T18:47:29.034253Z",
          "iopub.status.idle": "2023-05-16T18:47:29.056163Z",
          "shell.execute_reply.started": "2023-05-16T18:47:29.034229Z",
          "shell.execute_reply": "2023-05-16T18:47:29.055041Z"
        },
        "trusted": true,
        "id": "bqBEa_9xZu_r",
        "outputId": "4ad4f834-a7ff-4645-975d-ad8feaea25b0"
      },
      "execution_count": null,
      "outputs": [
        {
          "execution_count": 159,
          "output_type": "execute_result",
          "data": {
            "text/plain": "   PassengerId  Survived  Pclass  \\\n0            1         0       3   \n1            2         1       1   \n2            3         1       3   \n3            4         1       1   \n4            5         0       3   \n\n                                                Name     Sex   Age  SibSp  \\\n0                            Braund, Mr. Owen Harris    male  22.0      1   \n1  Cumings, Mrs. John Bradley (Florence Briggs Th...  female  38.0      1   \n2                             Heikkinen, Miss. Laina  female  26.0      0   \n3       Futrelle, Mrs. Jacques Heath (Lily May Peel)  female  35.0      1   \n4                           Allen, Mr. William Henry    male  35.0      0   \n\n   Parch            Ticket     Fare Cabin Embarked  \n0      0         A/5 21171   7.2500   NaN        S  \n1      0          PC 17599  71.2833   C85        C  \n2      0  STON/O2. 3101282   7.9250   NaN        S  \n3      0            113803  53.1000  C123        S  \n4      0            373450   8.0500   NaN        S  ",
            "text/html": "<div>\n<style scoped>\n    .dataframe tbody tr th:only-of-type {\n        vertical-align: middle;\n    }\n\n    .dataframe tbody tr th {\n        vertical-align: top;\n    }\n\n    .dataframe thead th {\n        text-align: right;\n    }\n</style>\n<table border=\"1\" class=\"dataframe\">\n  <thead>\n    <tr style=\"text-align: right;\">\n      <th></th>\n      <th>PassengerId</th>\n      <th>Survived</th>\n      <th>Pclass</th>\n      <th>Name</th>\n      <th>Sex</th>\n      <th>Age</th>\n      <th>SibSp</th>\n      <th>Parch</th>\n      <th>Ticket</th>\n      <th>Fare</th>\n      <th>Cabin</th>\n      <th>Embarked</th>\n    </tr>\n  </thead>\n  <tbody>\n    <tr>\n      <th>0</th>\n      <td>1</td>\n      <td>0</td>\n      <td>3</td>\n      <td>Braund, Mr. Owen Harris</td>\n      <td>male</td>\n      <td>22.0</td>\n      <td>1</td>\n      <td>0</td>\n      <td>A/5 21171</td>\n      <td>7.2500</td>\n      <td>NaN</td>\n      <td>S</td>\n    </tr>\n    <tr>\n      <th>1</th>\n      <td>2</td>\n      <td>1</td>\n      <td>1</td>\n      <td>Cumings, Mrs. John Bradley (Florence Briggs Th...</td>\n      <td>female</td>\n      <td>38.0</td>\n      <td>1</td>\n      <td>0</td>\n      <td>PC 17599</td>\n      <td>71.2833</td>\n      <td>C85</td>\n      <td>C</td>\n    </tr>\n    <tr>\n      <th>2</th>\n      <td>3</td>\n      <td>1</td>\n      <td>3</td>\n      <td>Heikkinen, Miss. Laina</td>\n      <td>female</td>\n      <td>26.0</td>\n      <td>0</td>\n      <td>0</td>\n      <td>STON/O2. 3101282</td>\n      <td>7.9250</td>\n      <td>NaN</td>\n      <td>S</td>\n    </tr>\n    <tr>\n      <th>3</th>\n      <td>4</td>\n      <td>1</td>\n      <td>1</td>\n      <td>Futrelle, Mrs. Jacques Heath (Lily May Peel)</td>\n      <td>female</td>\n      <td>35.0</td>\n      <td>1</td>\n      <td>0</td>\n      <td>113803</td>\n      <td>53.1000</td>\n      <td>C123</td>\n      <td>S</td>\n    </tr>\n    <tr>\n      <th>4</th>\n      <td>5</td>\n      <td>0</td>\n      <td>3</td>\n      <td>Allen, Mr. William Henry</td>\n      <td>male</td>\n      <td>35.0</td>\n      <td>0</td>\n      <td>0</td>\n      <td>373450</td>\n      <td>8.0500</td>\n      <td>NaN</td>\n      <td>S</td>\n    </tr>\n  </tbody>\n</table>\n</div>"
          },
          "metadata": {}
        }
      ]
    },
    {
      "cell_type": "code",
      "source": [
        "#Loading test data\n",
        "test_data = pd.read_csv(\"/kaggle/input/titanic/test.csv\")\n",
        "test_data.head()"
      ],
      "metadata": {
        "execution": {
          "iopub.status.busy": "2023-05-16T18:47:31.105737Z",
          "iopub.execute_input": "2023-05-16T18:47:31.106102Z",
          "iopub.status.idle": "2023-05-16T18:47:31.122472Z",
          "shell.execute_reply.started": "2023-05-16T18:47:31.106079Z",
          "shell.execute_reply": "2023-05-16T18:47:31.121791Z"
        },
        "trusted": true,
        "id": "ceDqkWIIZu_r",
        "outputId": "e750aa52-b535-4a5f-96a5-01cd140175b0"
      },
      "execution_count": null,
      "outputs": [
        {
          "execution_count": 160,
          "output_type": "execute_result",
          "data": {
            "text/plain": "   PassengerId  Pclass                                          Name     Sex  \\\n0          892       3                              Kelly, Mr. James    male   \n1          893       3              Wilkes, Mrs. James (Ellen Needs)  female   \n2          894       2                     Myles, Mr. Thomas Francis    male   \n3          895       3                              Wirz, Mr. Albert    male   \n4          896       3  Hirvonen, Mrs. Alexander (Helga E Lindqvist)  female   \n\n    Age  SibSp  Parch   Ticket     Fare Cabin Embarked  \n0  34.5      0      0   330911   7.8292   NaN        Q  \n1  47.0      1      0   363272   7.0000   NaN        S  \n2  62.0      0      0   240276   9.6875   NaN        Q  \n3  27.0      0      0   315154   8.6625   NaN        S  \n4  22.0      1      1  3101298  12.2875   NaN        S  ",
            "text/html": "<div>\n<style scoped>\n    .dataframe tbody tr th:only-of-type {\n        vertical-align: middle;\n    }\n\n    .dataframe tbody tr th {\n        vertical-align: top;\n    }\n\n    .dataframe thead th {\n        text-align: right;\n    }\n</style>\n<table border=\"1\" class=\"dataframe\">\n  <thead>\n    <tr style=\"text-align: right;\">\n      <th></th>\n      <th>PassengerId</th>\n      <th>Pclass</th>\n      <th>Name</th>\n      <th>Sex</th>\n      <th>Age</th>\n      <th>SibSp</th>\n      <th>Parch</th>\n      <th>Ticket</th>\n      <th>Fare</th>\n      <th>Cabin</th>\n      <th>Embarked</th>\n    </tr>\n  </thead>\n  <tbody>\n    <tr>\n      <th>0</th>\n      <td>892</td>\n      <td>3</td>\n      <td>Kelly, Mr. James</td>\n      <td>male</td>\n      <td>34.5</td>\n      <td>0</td>\n      <td>0</td>\n      <td>330911</td>\n      <td>7.8292</td>\n      <td>NaN</td>\n      <td>Q</td>\n    </tr>\n    <tr>\n      <th>1</th>\n      <td>893</td>\n      <td>3</td>\n      <td>Wilkes, Mrs. James (Ellen Needs)</td>\n      <td>female</td>\n      <td>47.0</td>\n      <td>1</td>\n      <td>0</td>\n      <td>363272</td>\n      <td>7.0000</td>\n      <td>NaN</td>\n      <td>S</td>\n    </tr>\n    <tr>\n      <th>2</th>\n      <td>894</td>\n      <td>2</td>\n      <td>Myles, Mr. Thomas Francis</td>\n      <td>male</td>\n      <td>62.0</td>\n      <td>0</td>\n      <td>0</td>\n      <td>240276</td>\n      <td>9.6875</td>\n      <td>NaN</td>\n      <td>Q</td>\n    </tr>\n    <tr>\n      <th>3</th>\n      <td>895</td>\n      <td>3</td>\n      <td>Wirz, Mr. Albert</td>\n      <td>male</td>\n      <td>27.0</td>\n      <td>0</td>\n      <td>0</td>\n      <td>315154</td>\n      <td>8.6625</td>\n      <td>NaN</td>\n      <td>S</td>\n    </tr>\n    <tr>\n      <th>4</th>\n      <td>896</td>\n      <td>3</td>\n      <td>Hirvonen, Mrs. Alexander (Helga E Lindqvist)</td>\n      <td>female</td>\n      <td>22.0</td>\n      <td>1</td>\n      <td>1</td>\n      <td>3101298</td>\n      <td>12.2875</td>\n      <td>NaN</td>\n      <td>S</td>\n    </tr>\n  </tbody>\n</table>\n</div>"
          },
          "metadata": {}
        }
      ]
    },
    {
      "cell_type": "code",
      "source": [
        "#Exploratory Data Analysis\n",
        "train_data['Sex'].value_counts()"
      ],
      "metadata": {
        "execution": {
          "iopub.status.busy": "2023-05-16T18:47:33.323013Z",
          "iopub.execute_input": "2023-05-16T18:47:33.323337Z",
          "iopub.status.idle": "2023-05-16T18:47:33.332010Z",
          "shell.execute_reply.started": "2023-05-16T18:47:33.323310Z",
          "shell.execute_reply": "2023-05-16T18:47:33.330618Z"
        },
        "trusted": true,
        "id": "QIWE7AU7Zu_s",
        "outputId": "d0366cf3-1b86-41bd-94d1-61241dce07a9"
      },
      "execution_count": null,
      "outputs": [
        {
          "execution_count": 161,
          "output_type": "execute_result",
          "data": {
            "text/plain": "male      577\nfemale    314\nName: Sex, dtype: int64"
          },
          "metadata": {}
        }
      ]
    },
    {
      "cell_type": "code",
      "source": [
        "import matplotlib.pyplot as plt\n",
        "\n",
        "\n",
        "# Plotting the histogram\n",
        "plt.hist(train_data['Age'], bins=10, edgecolor='black')\n",
        "\n",
        "# Customizing the plot\n",
        "plt.xlabel('Age')\n",
        "plt.ylabel('Frequency')\n",
        "plt.title('Age Frequency Distribution')\n",
        "\n",
        "# Display the plot\n",
        "plt.show()\n"
      ],
      "metadata": {
        "execution": {
          "iopub.status.busy": "2023-05-16T18:47:35.326770Z",
          "iopub.execute_input": "2023-05-16T18:47:35.327154Z",
          "iopub.status.idle": "2023-05-16T18:47:35.496141Z",
          "shell.execute_reply.started": "2023-05-16T18:47:35.327130Z",
          "shell.execute_reply": "2023-05-16T18:47:35.495275Z"
        },
        "trusted": true,
        "id": "OyFm-C9oZu_s",
        "outputId": "5cd1570b-2f98-44f6-b0cf-5708bba73974"
      },
      "execution_count": null,
      "outputs": [
        {
          "output_type": "display_data",
          "data": {
            "text/plain": "<Figure size 640x480 with 1 Axes>",
            "image/png": "[encoded data removed]"
          },
          "metadata": {}
        }
      ]
    },
    {
      "cell_type": "code",
      "source": [
        "import seaborn as sns\n",
        "import matplotlib.pyplot as plt\n",
        "\n",
        "# Plotting the histogram with density curve\n",
        "sns.histplot(train_data['Embarked'], kde=True)\n",
        "\n",
        "# Customizing the plot\n",
        "plt.xlabel('Embarked')\n",
        "plt.ylabel('Frequency')\n",
        "plt.title('Embarked Frequency Distribution with Density Curve')\n",
        "\n",
        "# Display the plot\n",
        "plt.show()\n"
      ],
      "metadata": {
        "execution": {
          "iopub.status.busy": "2023-05-16T18:47:39.074272Z",
          "iopub.execute_input": "2023-05-16T18:47:39.074624Z",
          "iopub.status.idle": "2023-05-16T18:47:39.248482Z",
          "shell.execute_reply.started": "2023-05-16T18:47:39.074600Z",
          "shell.execute_reply": "2023-05-16T18:47:39.247642Z"
        },
        "trusted": true,
        "id": "9EJfrO87Zu_s",
        "outputId": "5b1a3304-b8ad-4593-98b9-cfb7bf17f651"
      },
      "execution_count": null,
      "outputs": [
        {
          "output_type": "display_data",
          "data": {
            "text/plain": "<Figure size 640x480 with 1 Axes>",
            "image/png": "[encoded data removed]"
          },
          "metadata": {}
        }
      ]
    },
    {
      "cell_type": "code",
      "source": [
        "import seaborn as sns\n",
        "\n",
        "\n",
        "# Plotting the histogram with density curve\n",
        "sns.histplot(train_data['Age'], kde=True)\n",
        "\n",
        "# Customizing the plot\n",
        "plt.xlabel('Age')\n",
        "plt.ylabel('Frequency')\n",
        "plt.title('Age Frequency Distribution with Density Curve')\n",
        "\n",
        "# Display the plot\n",
        "plt.show()\n"
      ],
      "metadata": {
        "execution": {
          "iopub.status.busy": "2023-05-16T18:47:42.730200Z",
          "iopub.execute_input": "2023-05-16T18:47:42.730525Z",
          "iopub.status.idle": "2023-05-16T18:47:42.956422Z",
          "shell.execute_reply.started": "2023-05-16T18:47:42.730503Z",
          "shell.execute_reply": "2023-05-16T18:47:42.955246Z"
        },
        "trusted": true,
        "id": "GWDsU6gNZu_s",
        "outputId": "2ea37639-bf00-4d87-a38c-1224fa8b7862"
      },
      "execution_count": null,
      "outputs": [
        {
          "output_type": "display_data",
          "data": {
            "text/plain": "<Figure size 640x480 with 1 Axes>",
            "image/png": "[encoded data removed]"
          },
          "metadata": {}
        }
      ]
    },
    {
      "cell_type": "code",
      "source": [
        "women = train_data.loc[train_data.Sex == 'female'][\"Survived\"]\n",
        "rate_women = sum(women)/len(women)\n",
        "men = train_data.loc[train_data.Sex == 'male'][\"Survived\"]\n",
        "rate_men = sum(men)/len(men)\n",
        "\n",
        "print(\"% of women who survived:\", rate_women)\n",
        "print(\"% of women who survived:\", rate_men)"
      ],
      "metadata": {
        "execution": {
          "iopub.status.busy": "2023-05-16T18:47:46.174391Z",
          "iopub.execute_input": "2023-05-16T18:47:46.174722Z",
          "iopub.status.idle": "2023-05-16T18:47:46.183243Z",
          "shell.execute_reply.started": "2023-05-16T18:47:46.174700Z",
          "shell.execute_reply": "2023-05-16T18:47:46.182130Z"
        },
        "trusted": true,
        "id": "N6vybNxBZu_s",
        "outputId": "8a275f13-16ea-4090-f59e-26f473d46ef7"
      },
      "execution_count": null,
      "outputs": [
        {
          "name": "stdout",
          "text": "% of women who survived: 0.7420382165605095\n% of women who survived: 0.18890814558058924\n",
          "output_type": "stream"
        }
      ]
    },
    {
      "cell_type": "code",
      "source": [
        "train_data.columns"
      ],
      "metadata": {
        "execution": {
          "iopub.status.busy": "2023-05-16T18:39:04.819142Z",
          "iopub.execute_input": "2023-05-16T18:39:04.819528Z",
          "iopub.status.idle": "2023-05-16T18:39:04.828264Z",
          "shell.execute_reply.started": "2023-05-16T18:39:04.819498Z",
          "shell.execute_reply": "2023-05-16T18:39:04.827065Z"
        },
        "trusted": true,
        "id": "-_c7UBJBZu_t",
        "outputId": "8ec535c3-92a4-444a-d192-d90a50d16d29"
      },
      "execution_count": null,
      "outputs": [
        {
          "execution_count": 129,
          "output_type": "execute_result",
          "data": {
            "text/plain": "Index(['PassengerId', 'Survived', 'Pclass', 'Name', 'Sex', 'Age', 'SibSp',\n       'Parch', 'Ticket', 'Fare', 'Cabin', 'Embarked'],\n      dtype='object')"
          },
          "metadata": {}
        }
      ]
    },
    {
      "cell_type": "code",
      "source": [
        "from sklearn.model_selection import train_test_split\n",
        "from sklearn.ensemble import RandomForestClassifier\n",
        "\n",
        "\n",
        "y = train_data[\"Survived\"]\n",
        "\n",
        "features = [\"Pclass\", \"Sex\", \"Age\", \"SibSp\", \"Parch\", \"Fare\", \"Embarked\"]\n",
        "X = pd.get_dummies(train_data[features])\n"
      ],
      "metadata": {
        "execution": {
          "iopub.status.busy": "2023-05-16T18:47:50.760078Z",
          "iopub.execute_input": "2023-05-16T18:47:50.760415Z",
          "iopub.status.idle": "2023-05-16T18:47:50.770767Z",
          "shell.execute_reply.started": "2023-05-16T18:47:50.760388Z",
          "shell.execute_reply": "2023-05-16T18:47:50.769492Z"
        },
        "trusted": true,
        "id": "qYFcwY1oZu_t"
      },
      "execution_count": null,
      "outputs": []
    },
    {
      "cell_type": "code",
      "source": [
        "# Assuming your DataFrame is named 'df'\n",
        "nan_counts = X.isna().sum()\n",
        "\n",
        "print(nan_counts)"
      ],
      "metadata": {
        "execution": {
          "iopub.status.busy": "2023-05-16T18:47:53.474432Z",
          "iopub.execute_input": "2023-05-16T18:47:53.474792Z",
          "iopub.status.idle": "2023-05-16T18:47:53.483486Z",
          "shell.execute_reply.started": "2023-05-16T18:47:53.474767Z",
          "shell.execute_reply": "2023-05-16T18:47:53.482217Z"
        },
        "trusted": true,
        "id": "JwKzAUW1Zu_t",
        "outputId": "d613c13a-a877-477b-e393-0ef08969108e"
      },
      "execution_count": null,
      "outputs": [
        {
          "name": "stdout",
          "text": "Pclass          0\nAge           177\nSibSp           0\nParch           0\nFare            0\nSex_female      0\nSex_male        0\nEmbarked_C      0\nEmbarked_Q      0\nEmbarked_S      0\ndtype: int64\n",
          "output_type": "stream"
        }
      ]
    },
    {
      "cell_type": "code",
      "source": [
        "from sklearn.impute import KNNImputer\n",
        "\n",
        "# Instantiate the imputer with k=5 neighbors\n",
        "imputer = KNNImputer(n_neighbors=5)\n",
        "\n",
        "# Fill missing values in the 'Age' column using KNN imputation\n",
        "X['Age'] = imputer.fit_transform(X[['Age']])\n",
        "\n",
        "# Verify the imputed data\n",
        "nan_counts = X.isna().sum()\n",
        "print(nan_counts)\n"
      ],
      "metadata": {
        "execution": {
          "iopub.status.busy": "2023-05-16T18:47:55.461971Z",
          "iopub.execute_input": "2023-05-16T18:47:55.462507Z",
          "iopub.status.idle": "2023-05-16T18:47:55.477689Z",
          "shell.execute_reply.started": "2023-05-16T18:47:55.462477Z",
          "shell.execute_reply": "2023-05-16T18:47:55.476709Z"
        },
        "trusted": true,
        "id": "iSTOtJ5WZu_t",
        "outputId": "29c649d6-5d54-48e9-ad6c-a3f7ef8d14ec"
      },
      "execution_count": null,
      "outputs": [
        {
          "name": "stdout",
          "text": "Pclass        0\nAge           0\nSibSp         0\nParch         0\nFare          0\nSex_female    0\nSex_male      0\nEmbarked_C    0\nEmbarked_Q    0\nEmbarked_S    0\ndtype: int64\n",
          "output_type": "stream"
        }
      ]
    },
    {
      "cell_type": "code",
      "source": [
        "# Splitting the data into training and testing sets\n",
        "X_train, X_val, y_train, y_val = train_test_split(X, y, test_size=0.2, random_state=1)"
      ],
      "metadata": {
        "execution": {
          "iopub.status.busy": "2023-05-16T18:47:58.046808Z",
          "iopub.execute_input": "2023-05-16T18:47:58.047155Z",
          "iopub.status.idle": "2023-05-16T18:47:58.053361Z",
          "shell.execute_reply.started": "2023-05-16T18:47:58.047132Z",
          "shell.execute_reply": "2023-05-16T18:47:58.052452Z"
        },
        "trusted": true,
        "id": "PkDzpIqrZu_t"
      },
      "execution_count": null,
      "outputs": []
    },
    {
      "cell_type": "code",
      "source": [
        "X_test = pd.get_dummies(test_data[features])\n",
        "\n",
        "# Assuming your DataFrame is named 'df'\n",
        "nan_counts = X_test.isna().sum()\n",
        "\n",
        "print(nan_counts)"
      ],
      "metadata": {
        "execution": {
          "iopub.status.busy": "2023-05-16T18:48:00.304009Z",
          "iopub.execute_input": "2023-05-16T18:48:00.304481Z",
          "iopub.status.idle": "2023-05-16T18:48:00.319527Z",
          "shell.execute_reply.started": "2023-05-16T18:48:00.304446Z",
          "shell.execute_reply": "2023-05-16T18:48:00.318720Z"
        },
        "trusted": true,
        "id": "gmTKH9otZu_t",
        "outputId": "7337390b-b83f-4049-da0d-c73d852acba5"
      },
      "execution_count": null,
      "outputs": [
        {
          "name": "stdout",
          "text": "Pclass         0\nAge           86\nSibSp          0\nParch          0\nFare           1\nSex_female     0\nSex_male       0\nEmbarked_C     0\nEmbarked_Q     0\nEmbarked_S     0\ndtype: int64\n",
          "output_type": "stream"
        }
      ]
    },
    {
      "cell_type": "code",
      "source": [
        "# Calculate the median fare value\n",
        "median_fare = X_test['Fare'].median()\n",
        "\n",
        "# Fill the missing values in the 'Fare' column with the median value\n",
        "X_test['Fare'].fillna(median_fare, inplace=True)\n",
        "\n",
        "# Verify the imputed data\n",
        "print(X_test.isna().sum())"
      ],
      "metadata": {
        "execution": {
          "iopub.status.busy": "2023-05-16T18:48:02.698585Z",
          "iopub.execute_input": "2023-05-16T18:48:02.698920Z",
          "iopub.status.idle": "2023-05-16T18:48:02.708443Z",
          "shell.execute_reply.started": "2023-05-16T18:48:02.698897Z",
          "shell.execute_reply": "2023-05-16T18:48:02.707414Z"
        },
        "trusted": true,
        "id": "VjWdJ7OyZu_u",
        "outputId": "282d7494-e0eb-46a4-8c3c-3f444d5c3388"
      },
      "execution_count": null,
      "outputs": [
        {
          "name": "stdout",
          "text": "Pclass         0\nAge           86\nSibSp          0\nParch          0\nFare           0\nSex_female     0\nSex_male       0\nEmbarked_C     0\nEmbarked_Q     0\nEmbarked_S     0\ndtype: int64\n",
          "output_type": "stream"
        }
      ]
    },
    {
      "cell_type": "code",
      "source": [
        "from sklearn.impute import KNNImputer\n",
        "\n",
        "# Instantiate the imputer with k=5 neighbors\n",
        "imputer = KNNImputer(n_neighbors=5)\n",
        "\n",
        "# Fill missing values in the 'Age' column using KNN imputation\n",
        "X_test['Age'] = imputer.fit_transform(X_test[['Age']])\n",
        "\n",
        "# Verify the imputed data\n",
        "nan_counts = X_test.isna().sum()\n",
        "print(nan_counts)\n"
      ],
      "metadata": {
        "execution": {
          "iopub.status.busy": "2023-05-16T18:48:05.190227Z",
          "iopub.execute_input": "2023-05-16T18:48:05.190575Z",
          "iopub.status.idle": "2023-05-16T18:48:05.203728Z",
          "shell.execute_reply.started": "2023-05-16T18:48:05.190552Z",
          "shell.execute_reply": "2023-05-16T18:48:05.202546Z"
        },
        "trusted": true,
        "id": "YiP9GJqJZu_u",
        "outputId": "f934a7b2-4dba-4ee9-95a0-8b0e3d2654b8"
      },
      "execution_count": null,
      "outputs": [
        {
          "name": "stdout",
          "text": "Pclass        0\nAge           0\nSibSp         0\nParch         0\nFare          0\nSex_female    0\nSex_male      0\nEmbarked_C    0\nEmbarked_Q    0\nEmbarked_S    0\ndtype: int64\n",
          "output_type": "stream"
        }
      ]
    },
    {
      "cell_type": "code",
      "source": [
        "# from sklearn.preprocessing import StandardScaler\n",
        "\n",
        "scaler = StandardScaler()\n",
        "X_train_scaled = scaler.fit_transform(X_train)\n",
        "X_val_scaled = scaler.transform(X_val)\n",
        "X_test_scaled =scaler.transform(X_test)\n",
        "\n",
        "model = RandomForestClassifier(n_estimators=100, max_depth=5, random_state=1)\n",
        "model.fit(X_train_scaled, y_train)\n",
        "val_predictions = model.predict(X_val_scaled)"
      ],
      "metadata": {
        "execution": {
          "iopub.status.busy": "2023-05-16T18:48:07.755652Z",
          "iopub.execute_input": "2023-05-16T18:48:07.756743Z",
          "iopub.status.idle": "2023-05-16T18:48:07.936758Z",
          "shell.execute_reply.started": "2023-05-16T18:48:07.756687Z",
          "shell.execute_reply": "2023-05-16T18:48:07.935622Z"
        },
        "trusted": true,
        "id": "9k6GIgKGZu_u"
      },
      "execution_count": null,
      "outputs": []
    },
    {
      "cell_type": "code",
      "source": [
        "# Accessing feature importances\n",
        "feature_importances = model.feature_importances_\n",
        "print(\"Feature Importances:\", feature_importances)"
      ],
      "metadata": {
        "execution": {
          "iopub.status.busy": "2023-05-16T18:48:10.746606Z",
          "iopub.execute_input": "2023-05-16T18:48:10.747527Z",
          "iopub.status.idle": "2023-05-16T18:48:10.763761Z",
          "shell.execute_reply.started": "2023-05-16T18:48:10.747497Z",
          "shell.execute_reply": "2023-05-16T18:48:10.761939Z"
        },
        "trusted": true,
        "id": "N28mZOQVZu_u",
        "outputId": "3702ff85-6557-4da9-a5bf-3d825ce5512f"
      },
      "execution_count": null,
      "outputs": [
        {
          "name": "stdout",
          "text": "Feature Importances: [0.13921137 0.10639287 0.05043461 0.03433208 0.12205803 0.25754774\n 0.25434459 0.01028461 0.00939402 0.01600008]\n",
          "output_type": "stream"
        }
      ]
    },
    {
      "cell_type": "code",
      "source": [
        "from sklearn.metrics import accuracy_score\n",
        "\n",
        "accuracy = accuracy_score(y_val, val_predictions)\n",
        "print(\"Random_Accuracy:\", accuracy)"
      ],
      "metadata": {
        "execution": {
          "iopub.status.busy": "2023-05-16T18:48:13.202661Z",
          "iopub.execute_input": "2023-05-16T18:48:13.203069Z",
          "iopub.status.idle": "2023-05-16T18:48:13.210734Z",
          "shell.execute_reply.started": "2023-05-16T18:48:13.203030Z",
          "shell.execute_reply": "2023-05-16T18:48:13.210048Z"
        },
        "trusted": true,
        "id": "LMMkPpboZu_u",
        "outputId": "f75572cc-3e22-44a9-98a8-3e4dea253f0c"
      },
      "execution_count": null,
      "outputs": [
        {
          "name": "stdout",
          "text": "Random_Accuracy: 0.7653631284916201\n",
          "output_type": "stream"
        }
      ]
    },
    {
      "cell_type": "code",
      "source": [
        "predictions = model.predict(X_test_scaled)\n",
        "output = pd.DataFrame({'PassengerId': test_data.PassengerId, 'Survived': predictions})\n",
        "output.to_csv('submission.csv', index=False)\n",
        "print(\"Your submission was successfully saved!\")"
      ],
      "metadata": {
        "execution": {
          "iopub.status.busy": "2023-05-16T18:48:16.390692Z",
          "iopub.execute_input": "2023-05-16T18:48:16.391067Z",
          "iopub.status.idle": "2023-05-16T18:48:16.414750Z",
          "shell.execute_reply.started": "2023-05-16T18:48:16.391041Z",
          "shell.execute_reply": "2023-05-16T18:48:16.413771Z"
        },
        "trusted": true,
        "id": "Ly132q1nZu_u",
        "outputId": "0cf9c595-f320-4467-dc35-c8d11fb79958"
      },
      "execution_count": null,
      "outputs": [
        {
          "name": "stdout",
          "text": "Your submission was successfully saved!\n",
          "output_type": "stream"
        }
      ]
    },
    {
      "cell_type": "code",
      "source": [
        "from sklearn.model_selection import GridSearchCV\n",
        "\n",
        "# Define the parameter grid\n",
        "param_grid = {\n",
        "    'n_estimators': [50, 100, 200],\n",
        "    'max_depth': [3, 5, 7],\n",
        "    'min_samples_split': [2, 4, 8]\n",
        "}\n",
        "\n",
        "# Create the grid search object\n",
        "grid_search = GridSearchCV(estimator=RandomForestClassifier(random_state=1),\n",
        "                           param_grid=param_grid,\n",
        "                           scoring='accuracy',\n",
        "                           cv=5)\n",
        "\n",
        "# Fit the grid search to the scaled training data\n",
        "grid_search.fit(X_train_scaled, y_train)\n",
        "\n",
        "# Get the best hyperparameters and the corresponding model\n",
        "best_rf_params = grid_search.best_params_\n",
        "print(\"best_rf_params:\", best_rf_params)\n",
        "best_rf_model = grid_search.best_estimator_\n",
        "\n",
        "# Use the best model to make predictions on the validation set\n",
        "rf_val_predictions = best_rf_model.predict(X_val_scaled)\n",
        "\n",
        "# Calculate the accuracy of the best model on the validation set\n",
        "rf_accuracy = accuracy_score(y_val, rf_val_predictions)\n",
        "print(\"Accuracy:\", rf_accuracy)\n"
      ],
      "metadata": {
        "execution": {
          "iopub.status.busy": "2023-05-16T18:57:39.085765Z",
          "iopub.execute_input": "2023-05-16T18:57:39.086115Z",
          "iopub.status.idle": "2023-05-16T18:58:03.277890Z",
          "shell.execute_reply.started": "2023-05-16T18:57:39.086091Z",
          "shell.execute_reply": "2023-05-16T18:58:03.277043Z"
        },
        "trusted": true,
        "id": "6UpFVLr0Zu_u",
        "outputId": "4ea3b8cd-2e65-4d85-b33f-602a337cf646"
      },
      "execution_count": null,
      "outputs": [
        {
          "name": "stdout",
          "text": "best_rf_params: {'max_depth': 5, 'min_samples_split': 2, 'n_estimators': 50}\nAccuracy: 0.776536312849162\n",
          "output_type": "stream"
        }
      ]
    },
    {
      "cell_type": "code",
      "source": [
        "#Logistic regression and Decision tree classifier\n",
        "\n",
        "from sklearn.model_selection import train_test_split\n",
        "from sklearn.linear_model import LogisticRegression\n",
        "from sklearn.tree import DecisionTreeClassifier\n",
        "\n",
        "# Splitting the data into training and validation sets\n",
        "X_train, X_val, y_train, y_val = train_test_split(X, y, test_size=0.2, random_state=1)\n",
        "\n",
        "# from sklearn.preprocessing import StandardScaler\n",
        "\n",
        "scaler = StandardScaler()\n",
        "X_train_scaled = scaler.fit_transform(X_train)\n",
        "X_val_scaled = scaler.transform(X_val)\n",
        "X_test_scaled =scaler.transform(X_test)\n",
        "\n",
        "\n",
        "# Logistic Regression\n",
        "logistic_model = LogisticRegression(solver='liblinear', max_iter=1000)\n",
        "logistic_model.fit(X_train_scaled, y_train)\n",
        "logistic_val_predictions = logistic_model.predict(X_val_scaled)\n",
        "\n",
        "# Decision Tree Classifier\n",
        "tree_model = DecisionTreeClassifier()\n",
        "tree_model.fit(X_train_scaled, y_train)\n",
        "tree_val_predictions = tree_model.predict(X_val_scaled)\n"
      ],
      "metadata": {
        "execution": {
          "iopub.status.busy": "2023-05-16T18:58:19.739098Z",
          "iopub.execute_input": "2023-05-16T18:58:19.739661Z",
          "iopub.status.idle": "2023-05-16T18:58:19.760715Z",
          "shell.execute_reply.started": "2023-05-16T18:58:19.739590Z",
          "shell.execute_reply": "2023-05-16T18:58:19.759666Z"
        },
        "trusted": true,
        "id": "IA4DTyNwZu_u"
      },
      "execution_count": null,
      "outputs": []
    },
    {
      "cell_type": "code",
      "source": [
        "\n",
        "# Accessing the coefficients and intercept\n",
        "coefficients = logistic_model.coef_\n",
        "intercept = logistic_model.intercept_\n",
        "\n",
        "print(\"Coefficients:\", coefficients)\n",
        "print(\"Intercept:\", intercept)\n"
      ],
      "metadata": {
        "execution": {
          "iopub.status.busy": "2023-05-16T18:58:21.984920Z",
          "iopub.execute_input": "2023-05-16T18:58:21.985329Z",
          "iopub.status.idle": "2023-05-16T18:58:21.991138Z",
          "shell.execute_reply.started": "2023-05-16T18:58:21.985302Z",
          "shell.execute_reply": "2023-05-16T18:58:21.990354Z"
        },
        "trusted": true,
        "id": "X3NDfeG_Zu_u",
        "outputId": "9afeaf4b-5841-48a7-c089-bc6dce084423"
      },
      "execution_count": null,
      "outputs": [
        {
          "name": "stdout",
          "text": "Coefficients: [[-1.01819353 -0.53757467 -0.34788834  0.02505837  0.00788748  0.64324432\n  -0.64324432 -0.08687442 -0.035371   -0.27608296]]\nIntercept: [-0.69341024]\n",
          "output_type": "stream"
        }
      ]
    },
    {
      "cell_type": "code",
      "source": [
        "from sklearn.metrics import accuracy_score\n",
        "\n",
        "Log_accuracy = accuracy_score(y_val, logistic_val_predictions)\n",
        "print(\"Logistic Accuracy:\", Log_accuracy)\n",
        "\n",
        "Tree_accuracy = accuracy_score(y_val, tree_val_predictions)\n",
        "print(\"Decision Tree Accuracy:\", Tree_accuracy)"
      ],
      "metadata": {
        "execution": {
          "iopub.status.busy": "2023-05-16T18:58:24.301270Z",
          "iopub.execute_input": "2023-05-16T18:58:24.301697Z",
          "iopub.status.idle": "2023-05-16T18:58:24.311690Z",
          "shell.execute_reply.started": "2023-05-16T18:58:24.301664Z",
          "shell.execute_reply": "2023-05-16T18:58:24.310128Z"
        },
        "trusted": true,
        "id": "nrfl1ug7Zu_v",
        "outputId": "f3a2c439-f2e5-4b04-ded0-f3efd4c1c420"
      },
      "execution_count": null,
      "outputs": [
        {
          "name": "stdout",
          "text": "Logistic Accuracy: 0.8044692737430168\nDecision Tree Accuracy: 0.7541899441340782\n",
          "output_type": "stream"
        }
      ]
    },
    {
      "cell_type": "code",
      "source": [
        "log_predictions = logistic_model.predict(X_test_scaled)\n",
        "output = pd.DataFrame({'PassengerId': test_data.PassengerId, 'Survived': log_predictions})\n",
        "output.to_csv('submission.csv', index=False)\n",
        "print(\"Your submission was successfully saved!\")"
      ],
      "metadata": {
        "execution": {
          "iopub.status.busy": "2023-05-16T18:58:28.166732Z",
          "iopub.execute_input": "2023-05-16T18:58:28.167901Z",
          "iopub.status.idle": "2023-05-16T18:58:28.177463Z",
          "shell.execute_reply.started": "2023-05-16T18:58:28.167835Z",
          "shell.execute_reply": "2023-05-16T18:58:28.176152Z"
        },
        "trusted": true,
        "id": "Zzuvsi3tZu_v",
        "outputId": "96da21b3-f93a-43a7-c3c3-c210430d23a2"
      },
      "execution_count": null,
      "outputs": [
        {
          "name": "stdout",
          "text": "Your submission was successfully saved!\n",
          "output_type": "stream"
        }
      ]
    },
    {
      "cell_type": "code",
      "source": [
        "from sklearn.model_selection import GridSearchCV\n",
        "\n",
        "# Define the parameter grid\n",
        "log_param_grid = {\n",
        "    'C': [0.1, 1, 10],\n",
        "    'solver': ['liblinear', 'lbfgs'],\n",
        "    'max_iter': [100, 500, 1000]\n",
        "}\n",
        "\n",
        "# Create the grid search object\n",
        "log_grid_search = GridSearchCV(estimator=LogisticRegression(random_state=1),\n",
        "                           param_grid=log_param_grid,\n",
        "                           scoring='roc_auc',\n",
        "                           cv=5)\n",
        "\n",
        "# Fit the grid search to the scaled training data\n",
        "log_grid_search.fit(X_train_scaled, y_train)\n",
        "\n",
        "# Get the best hyperparameters and the corresponding model\n",
        "log_best_params = log_grid_search.best_params_\n",
        "log_best_model = log_grid_search.best_estimator_\n",
        "\n",
        "# Use the best model to make predictions on the validation set\n",
        "log_val_predictions = log_best_model.predict(X_val_scaled)\n",
        "\n",
        "# Calculate the accuracy of the best model on the validation set\n",
        "log_accuracy = accuracy_score(y_val, log_val_predictions)\n",
        "print(\"Accuracy:\", log_accuracy)\n"
      ],
      "metadata": {
        "execution": {
          "iopub.status.busy": "2023-05-16T19:10:37.585154Z",
          "iopub.execute_input": "2023-05-16T19:10:37.585486Z",
          "iopub.status.idle": "2023-05-16T19:10:38.076115Z",
          "shell.execute_reply.started": "2023-05-16T19:10:37.585462Z",
          "shell.execute_reply": "2023-05-16T19:10:38.074901Z"
        },
        "trusted": true,
        "id": "UIEv6wrNZu_v",
        "outputId": "e9f14247-439a-4b1e-8ea6-7522743d89c2"
      },
      "execution_count": null,
      "outputs": [
        {
          "name": "stdout",
          "text": "Accuracy: 0.8044692737430168\n",
          "output_type": "stream"
        }
      ]
    },
    {
      "cell_type": "code",
      "source": [
        "print(\"log_best_params:\", log_best_params)"
      ],
      "metadata": {
        "execution": {
          "iopub.status.busy": "2023-05-16T19:00:00.999746Z",
          "iopub.execute_input": "2023-05-16T19:00:01.000144Z",
          "iopub.status.idle": "2023-05-16T19:00:01.006530Z",
          "shell.execute_reply.started": "2023-05-16T19:00:01.000120Z",
          "shell.execute_reply": "2023-05-16T19:00:01.005046Z"
        },
        "trusted": true,
        "id": "TIFkKe6OZu_v",
        "outputId": "610edae5-2107-4e6b-9f68-afe48d625e09"
      },
      "execution_count": null,
      "outputs": [
        {
          "name": "stdout",
          "text": "log_best_params: {'C': 1, 'max_iter': 100, 'solver': 'lbfgs'}\n",
          "output_type": "stream"
        }
      ]
    },
    {
      "cell_type": "code",
      "source": [
        "from sklearn.model_selection import GridSearchCV\n",
        "\n",
        "# Define the parameter grid\n",
        "tree_param_grid = {\n",
        "    'max_depth': [3, 5, 7, None],\n",
        "    'min_samples_split': [2, 4, 8],\n",
        "    'min_samples_leaf': [1, 2, 4]\n",
        "}\n",
        "\n",
        "# Create the grid search object\n",
        "tree_grid_search = GridSearchCV(estimator=DecisionTreeClassifier(random_state=1),\n",
        "                           param_grid=tree_param_grid,\n",
        "                           scoring='roc_auc',\n",
        "                           cv=5)\n",
        "\n",
        "# Fit the grid search to the scaled training data\n",
        "tree_grid_search.fit(X_train_scaled, y_train)\n",
        "\n",
        "# Get the best hyperparameters and the corresponding model\n",
        "tree_best_params = tree_grid_search.best_params_\n",
        "tree_best_model = tree_grid_search.best_estimator_\n",
        "\n",
        "# Use the best model to make predictions on the validation set\n",
        "tree_val_predictions = tree_best_model.predict(X_val_scaled)\n",
        "\n",
        "# Calculate the accuracy of the best model on the validation set\n",
        "tree_accuracy = accuracy_score(y_val, tree_val_predictions)\n",
        "print(\"Accuracy:\", tree_accuracy)\n"
      ],
      "metadata": {
        "execution": {
          "iopub.status.busy": "2023-05-16T19:10:44.752884Z",
          "iopub.execute_input": "2023-05-16T19:10:44.753248Z",
          "iopub.status.idle": "2023-05-16T19:10:45.452310Z",
          "shell.execute_reply.started": "2023-05-16T19:10:44.753225Z",
          "shell.execute_reply": "2023-05-16T19:10:45.450788Z"
        },
        "trusted": true,
        "id": "yxjDZmtiZu_v",
        "outputId": "12663f24-4fc8-4f6d-b44f-ab853ee5598a"
      },
      "execution_count": null,
      "outputs": [
        {
          "name": "stdout",
          "text": "Accuracy: 0.8044692737430168\n",
          "output_type": "stream"
        }
      ]
    },
    {
      "cell_type": "code",
      "source": [
        "print(\"tree_best_params:\", tree_best_params)"
      ],
      "metadata": {
        "execution": {
          "iopub.status.busy": "2023-05-16T19:02:06.240196Z",
          "iopub.execute_input": "2023-05-16T19:02:06.240547Z",
          "iopub.status.idle": "2023-05-16T19:02:06.246372Z",
          "shell.execute_reply.started": "2023-05-16T19:02:06.240524Z",
          "shell.execute_reply": "2023-05-16T19:02:06.245346Z"
        },
        "trusted": true,
        "id": "jNVLjpsEZu_v",
        "outputId": "6765b051-39c9-42f2-8850-612e79a0ef49"
      },
      "execution_count": null,
      "outputs": [
        {
          "name": "stdout",
          "text": "log_best_params: {'max_depth': 3, 'min_samples_leaf': 4, 'min_samples_split': 2}\n",
          "output_type": "stream"
        }
      ]
    },
    {
      "cell_type": "code",
      "source": [
        "from xgboost import XGBClassifier\n",
        "from sklearn.svm import SVC\n",
        "\n",
        "# XGBoost Classifier\n",
        "xgb_model = XGBClassifier()\n",
        "xgb_model.fit(X_train_scaled, y_train)\n",
        "xgb_val_predictions = xgb_model.predict(X_val_scaled)\n",
        "xgb_accuracy = accuracy_score(y_val, xgb_val_predictions)\n",
        "print(\"XGBoost Accuracy:\", xgb_accuracy)\n",
        "\n",
        "# SVM Classifier\n",
        "svm_model = SVC()\n",
        "svm_model.fit(X_train_scaled, y_train)\n",
        "svm_val_predictions = svm_model.predict(X_val_scaled)\n",
        "svm_accuracy = accuracy_score(y_val, svm_val_predictions)\n",
        "print(\"SVM Accuracy:\", svm_accuracy)\n"
      ],
      "metadata": {
        "execution": {
          "iopub.status.busy": "2023-05-16T18:48:31.710369Z",
          "iopub.execute_input": "2023-05-16T18:48:31.710695Z",
          "iopub.status.idle": "2023-05-16T18:48:31.808493Z",
          "shell.execute_reply.started": "2023-05-16T18:48:31.710672Z",
          "shell.execute_reply": "2023-05-16T18:48:31.807553Z"
        },
        "trusted": true,
        "id": "M-WXkO5MZu_v",
        "outputId": "7847bb31-6bfc-4c16-f1d2-d97c257414f4"
      },
      "execution_count": null,
      "outputs": [
        {
          "name": "stdout",
          "text": "XGBoost Accuracy: 0.7821229050279329\nSVM Accuracy: 0.776536312849162\n",
          "output_type": "stream"
        }
      ]
    },
    {
      "cell_type": "code",
      "source": [
        "from sklearn.model_selection import GridSearchCV\n",
        "\n",
        "# Define the parameter grid\n",
        "XGB_param_grid = {\n",
        "    'max_depth': [3, 5, 7],\n",
        "    'learning_rate': [0.1, 0.01, 0.001],\n",
        "    'n_estimators': [100, 500, 1000],\n",
        "    'subsample': [0.8, 1.0],\n",
        "    'colsample_bytree': [0.8, 1.0]\n",
        "}\n",
        "\n",
        "# Create the grid search object\n",
        "XGB_grid_search = GridSearchCV(estimator=XGBClassifier(random_state=1),\n",
        "                           param_grid=XGB_param_grid,\n",
        "                           scoring='roc_auc',\n",
        "                           cv=5)\n",
        "\n",
        "# Fit the grid search to the scaled training data\n",
        "XGB_grid_search.fit(X_train_scaled, y_train)\n",
        "\n",
        "# Get the best hyperparameters and the corresponding model\n",
        "XGB_best_params = XGB_grid_search.best_params_\n",
        "XGB_best_model = XGB_grid_search.best_estimator_\n",
        "\n",
        "# Use the best model to make predictions on the validation set\n",
        "XGB_val_predictions = XGB_best_model.predict(X_val_scaled)\n",
        "\n",
        "# Calculate the accuracy of the best model on the validation set\n",
        "XGB_accuracy = accuracy_score(y_val, XGB_val_predictions)\n",
        "print(\"Accuracy:\", XGB_accuracy)\n"
      ],
      "metadata": {
        "execution": {
          "iopub.status.busy": "2023-05-16T19:10:53.132964Z",
          "iopub.execute_input": "2023-05-16T19:10:53.133355Z",
          "iopub.status.idle": "2023-05-16T19:13:11.021542Z",
          "shell.execute_reply.started": "2023-05-16T19:10:53.133325Z",
          "shell.execute_reply": "2023-05-16T19:13:11.020317Z"
        },
        "trusted": true,
        "id": "aI_njNiCZu_v",
        "outputId": "36597d41-db1f-4c30-bbc0-e697e7b9c847"
      },
      "execution_count": null,
      "outputs": [
        {
          "name": "stdout",
          "text": "Accuracy: 0.8100558659217877\n",
          "output_type": "stream"
        }
      ]
    },
    {
      "cell_type": "code",
      "source": [
        "print(\"XGB_best_params:\", XGB_best_params)"
      ],
      "metadata": {
        "execution": {
          "iopub.status.busy": "2023-05-16T19:13:11.023209Z",
          "iopub.execute_input": "2023-05-16T19:13:11.023519Z",
          "iopub.status.idle": "2023-05-16T19:13:11.029031Z",
          "shell.execute_reply.started": "2023-05-16T19:13:11.023492Z",
          "shell.execute_reply": "2023-05-16T19:13:11.028077Z"
        },
        "trusted": true,
        "id": "9dxt60YDZu_v",
        "outputId": "5d983713-9689-48ce-e271-248447797d3d"
      },
      "execution_count": null,
      "outputs": [
        {
          "name": "stdout",
          "text": "XGB_best_params: {'colsample_bytree': 1.0, 'learning_rate': 0.1, 'max_depth': 3, 'n_estimators': 100, 'subsample': 0.8}\n",
          "output_type": "stream"
        }
      ]
    },
    {
      "cell_type": "code",
      "source": [
        "from sklearn.model_selection import GridSearchCV\n",
        "\n",
        "# Define the parameter grid\n",
        "SVC_param_grid = {\n",
        "    'C': [0.1, 1, 10],\n",
        "    'kernel': ['linear', 'rbf', 'poly'],\n",
        "    'gamma': ['scale', 'auto']\n",
        "}\n",
        "\n",
        "# Create the grid search object\n",
        "SVC_grid_search = GridSearchCV(estimator=SVC(random_state=1),\n",
        "                           param_grid=SVC_param_grid,\n",
        "                           scoring='roc_auc',\n",
        "                           cv=5)\n",
        "\n",
        "# Fit the grid search to the scaled training data\n",
        "SVC_grid_search.fit(X_train_scaled, y_train)\n",
        "\n",
        "# Get the best hyperparameters and the corresponding model\n",
        "SVC_best_params = SVC_grid_search.best_params_\n",
        "SVC_best_model = SVC_grid_search.best_estimator_\n",
        "\n",
        "# Use the best model to make predictions on the validation set\n",
        "SVC_val_predictions = SVC_best_model.predict(X_val_scaled)\n",
        "\n",
        "# Calculate the accuracy of the best model on the validation set\n",
        "SVC_accuracy = accuracy_score(y_val, val_predictions)\n",
        "print(\"Accuracy:\", SVC_accuracy)\n"
      ],
      "metadata": {
        "execution": {
          "iopub.status.busy": "2023-05-16T19:13:11.030243Z",
          "iopub.execute_input": "2023-05-16T19:13:11.030636Z",
          "iopub.status.idle": "2023-05-16T19:13:12.186655Z",
          "shell.execute_reply.started": "2023-05-16T19:13:11.030613Z",
          "shell.execute_reply": "2023-05-16T19:13:12.185750Z"
        },
        "trusted": true,
        "id": "YG3tFKQKZu_w",
        "outputId": "60b00663-aa2b-4085-9c4d-db3e3c4a151b"
      },
      "execution_count": null,
      "outputs": [
        {
          "name": "stdout",
          "text": "Accuracy: 0.776536312849162\n",
          "output_type": "stream"
        }
      ]
    },
    {
      "cell_type": "code",
      "source": [
        "print(\"SVC_best_params:\", SVC_best_params)"
      ],
      "metadata": {
        "execution": {
          "iopub.status.busy": "2023-05-16T19:13:12.188329Z",
          "iopub.execute_input": "2023-05-16T19:13:12.188592Z",
          "iopub.status.idle": "2023-05-16T19:13:12.193091Z",
          "shell.execute_reply.started": "2023-05-16T19:13:12.188569Z",
          "shell.execute_reply": "2023-05-16T19:13:12.192379Z"
        },
        "trusted": true,
        "id": "YzmH6lH8Zu_w",
        "outputId": "dee5eb5f-99ce-4ffc-de6a-558fc76498c6"
      },
      "execution_count": null,
      "outputs": [
        {
          "name": "stdout",
          "text": "SVC_best_params: {'C': 1, 'gamma': 'scale', 'kernel': 'rbf'}\n",
          "output_type": "stream"
        }
      ]
    },
    {
      "cell_type": "code",
      "source": [
        "from sklearn.ensemble import VotingClassifier\n",
        "# Create the ensemble model by combining the individual models\n",
        "ensemble_model = VotingClassifier(\n",
        "    estimators=[\n",
        "        ('rf', model),\n",
        "        ('logistic', logistic_model),\n",
        "        ('tree', tree_model),\n",
        "        ('svm', svm_model),\n",
        "        ('xgb', xgb_model)\n",
        "    ],\n",
        "    voting='hard'  # You can also try 'soft' voting for probability-based predictions\n",
        ")\n",
        "\n",
        "# Train the ensemble model\n",
        "ensemble_model.fit(X_train_scaled, y_train)\n",
        "\n",
        "# Predict on the validation set\n",
        "ensemble_val_predictions = ensemble_model.predict(X_val_scaled)\n",
        "\n",
        "# Calculate accuracy\n",
        "ensemble_accuracy = accuracy_score(y_val, ensemble_val_predictions)\n",
        "print(\"Ensemble Accuracy:\", ensemble_accuracy)"
      ],
      "metadata": {
        "execution": {
          "iopub.status.busy": "2023-05-16T19:09:20.472143Z",
          "iopub.execute_input": "2023-05-16T19:09:20.472509Z",
          "iopub.status.idle": "2023-05-16T19:09:20.755331Z",
          "shell.execute_reply.started": "2023-05-16T19:09:20.472482Z",
          "shell.execute_reply": "2023-05-16T19:09:20.754570Z"
        },
        "trusted": true,
        "id": "O1p4B5MLZu_w",
        "outputId": "53b1f52c-0c5d-49bb-84a3-b255385b10d1"
      },
      "execution_count": null,
      "outputs": [
        {
          "name": "stdout",
          "text": "Ensemble Accuracy: 0.7877094972067039\n",
          "output_type": "stream"
        }
      ]
    },
    {
      "cell_type": "code",
      "source": [],
      "metadata": {
        "id": "aJS8f83RZu_w"
      },
      "execution_count": null,
      "outputs": []
    },
    {
      "cell_type": "code",
      "source": [
        "from sklearn.ensemble import VotingClassifier\n",
        "# Create the ensemble model by combining the individual models\n",
        "ensemble_model = VotingClassifier(\n",
        "    estimators=[\n",
        "        ('rf', best_rf_model),\n",
        "        ('logistic', log_best_model),\n",
        "        ('tree',tree_best_model ),\n",
        "        ('svm', SVC_best_model),\n",
        "        ('xgb', XGB_best_model)\n",
        "    ],\n",
        "    voting='hard'  # You can also try 'soft' voting for probability-based predictions\n",
        ")\n",
        "\n",
        "# Train the ensemble model\n",
        "ensemble_model.fit(X_train_scaled, y_train)\n",
        "\n",
        "# Predict on the validation set\n",
        "ensemble_val_predictions = ensemble_model.predict(X_val_scaled)\n",
        "\n",
        "# Calculate accuracy\n",
        "ensemble_accuracy = accuracy_score(y_val, ensemble_val_predictions)\n",
        "print(\"Ensemble Accuracy:\", ensemble_accuracy)"
      ],
      "metadata": {
        "execution": {
          "iopub.status.busy": "2023-05-16T19:09:23.528678Z",
          "iopub.execute_input": "2023-05-16T19:09:23.529144Z",
          "iopub.status.idle": "2023-05-16T19:09:23.699138Z",
          "shell.execute_reply.started": "2023-05-16T19:09:23.529116Z",
          "shell.execute_reply": "2023-05-16T19:09:23.698075Z"
        },
        "trusted": true,
        "id": "XWxoKBsBZu_w",
        "outputId": "04c0907c-5661-4057-abed-806ac7de3355"
      },
      "execution_count": null,
      "outputs": [
        {
          "name": "stdout",
          "text": "Ensemble Accuracy: 0.776536312849162\n",
          "output_type": "stream"
        }
      ]
    }
  ]
}